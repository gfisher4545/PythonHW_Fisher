{
 "cells": [
  {
   "cell_type": "code",
   "execution_count": 24,
   "metadata": {},
   "outputs": [],
   "source": [
    "import os\n",
    "import csv"
   ]
  },
  {
   "cell_type": "code",
   "execution_count": 25,
   "metadata": {},
   "outputs": [],
   "source": [
    "budget_path = os.path.join('Resources','budget_data.csv')\n",
    "newfile_path = os.path.join('Resources', 'data.txt')\n"
   ]
  },
  {
   "cell_type": "code",
   "execution_count": 26,
   "metadata": {
    "scrolled": true
   },
   "outputs": [
    {
     "name": "stdout",
     "output_type": "stream",
     "text": [
      "Sep-2013\n"
     ]
    }
   ],
   "source": [
    "with open(budget_path) as csvfile:\n",
    "    budget_data = csv.reader(csvfile, delimiter = ',')\n",
    "    header = next(csvfile)\n",
    "    month = []\n",
    "    revenue = []\n",
    "    changeProfits = []\n",
    "    incProfits = []\n",
    "    decProfits = []\n",
    "    \n",
    "    \n",
    "    \n",
    "    for row in budget_data:\n",
    "        month.append(row[0])\n",
    "        #print(row[0])\n",
    "        revenue.append(row[1])\n",
    "        #print(row[1])\n",
    "    total_months = len(month)\n",
    "    #print(total_months)\n",
    "    revenue_format = map(int,revenue)\n",
    "    total_revenue = sum(revenue_format)\n",
    "    #print(total_revenue)\n",
    "    \n",
    "    i = 0\n",
    "    for i in range(len(revenue)-1):\n",
    "        profit = int(revenue[i+1]) - int(revenue[i])\n",
    "        #print(profit)\n",
    "        changeProfits.append(profit)\n",
    "        #print(changeProfits)\n",
    "    total_change = sum(changeProfits)\n",
    "    #print(total_change)\n",
    "    average = total_change / len(changeProfits)\n",
    "    #print(average)\n",
    "    increase_revenue = max(changeProfits)\n",
    "    #print(increase_revenue)\n",
    "    decrease_revenue = min(changeProfits)\n",
    "    #print(decrease_revenue)\n",
    "    inc_month = changeProfits.index(increase_revenue)\n",
    "    inc_month_name = month[inc_month+1]\n",
    "    #print (inc_month_name)\n",
    "    dec_month = changeProfits.index(decrease_revenue)\n",
    "    dec_month_name = month[dec_month+1]\n",
    "    print(dec_month_name)"
   ]
  },
  {
   "cell_type": "code",
   "execution_count": 27,
   "metadata": {},
   "outputs": [],
   "source": [
    "data = (\n",
    "    f\"Financial Analysis\\n\" \n",
    "f\"----------------------------\\n\" \n",
    "f\"Total Months: {total_months}\\n\"\n",
    "f\"Total: {total_revenue}\\n\"\n",
    "f\"Average Change: {average}\\n\"\n",
    "f\"Greatest Increase in Profits: {inc_month_name} (${increase_revenue})\\n\"\n",
    "f\"Greatest Decrease in Profits: {dec_month_name} (${decrease_revenue})\\n\"\n",
    ")\n",
    "#print(data)\n",
    "with open (newfile_path,'w') as txt_file:\n",
    "    txt_file.write(data)\n",
    "    "
   ]
  },
  {
   "cell_type": "code",
   "execution_count": 5,
   "metadata": {},
   "outputs": [
    {
     "data": {
      "text/plain": [
       "'1'"
      ]
     },
     "execution_count": 5,
     "metadata": {},
     "output_type": "execute_result"
    }
   ],
   "source": [
    "           "
   ]
  },
  {
   "cell_type": "code",
   "execution_count": null,
   "metadata": {
    "scrolled": true
   },
   "outputs": [],
   "source": []
  },
  {
   "cell_type": "code",
   "execution_count": null,
   "metadata": {},
   "outputs": [],
   "source": []
  },
  {
   "cell_type": "code",
   "execution_count": null,
   "metadata": {},
   "outputs": [],
   "source": []
  }
 ],
 "metadata": {
  "kernelspec": {
   "display_name": "Python 3",
   "language": "python",
   "name": "python3"
  },
  "language_info": {
   "codemirror_mode": {
    "name": "ipython",
    "version": 3
   },
   "file_extension": ".py",
   "mimetype": "text/x-python",
   "name": "python",
   "nbconvert_exporter": "python",
   "pygments_lexer": "ipython3",
   "version": "3.7.4"
  }
 },
 "nbformat": 4,
 "nbformat_minor": 2
}
