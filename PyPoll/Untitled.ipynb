{
 "cells": [
  {
   "cell_type": "code",
   "execution_count": 29,
   "metadata": {},
   "outputs": [],
   "source": [
    "import os\n",
    "import csv\n",
    "\n",
    "resource_path = os.path.join('Resources','election_data.csv')\n",
    "new_path = os.path.join('Resources','results.txt')\n",
    "\n",
    "with open (resource_path) as csvfile:\n",
    "    resource_data = csv.reader(csvfile, delimiter = \",\" )\n",
    "    header = next(csvfile)\n",
    "    #print (header)\n",
    "    votes = []\n",
    "    candidates = []\n",
    "    khan = []\n",
    "    correy = []\n",
    "    li = []\n",
    "    otooley = []\n",
    "    winner = []\n",
    "    for row in resource_data:\n",
    "        votes.append(row[0])\n",
    "        candidates.append(row[2])\n",
    "        #print(row[2])\n",
    "        \n",
    "    total_votes = len(votes)\n",
    "    \n",
    "    \n",
    "    \n",
    "    \n",
    "            \n",
    "        \n",
    "        \n",
    "\n",
    "        "
   ]
  },
  {
   "cell_type": "code",
   "execution_count": null,
   "metadata": {},
   "outputs": [],
   "source": []
  },
  {
   "cell_type": "markdown",
   "metadata": {},
   "source": [
    "## Dictionary to count stats"
   ]
  },
  {
   "cell_type": "code",
   "execution_count": 30,
   "metadata": {},
   "outputs": [
    {
     "data": {
      "text/plain": [
       "{'Khan': 2218231, 'Correy': 704200, 'Li': 492940, \"O'Tooley\": 105630}"
      ]
     },
     "execution_count": 30,
     "metadata": {},
     "output_type": "execute_result"
    }
   ],
   "source": [
    "vote_stas = {}\n",
    "for name in candidates:\n",
    "    if name not in vote_stas:\n",
    "        vote_stas[name] =  1\n",
    "    else:\n",
    "        vote_stas[name] = vote_stas[name] + 1\n",
    "vote_stas"
   ]
  },
  {
   "cell_type": "code",
   "execution_count": 39,
   "metadata": {},
   "outputs": [
    {
     "data": {
      "text/plain": [
       "2218231"
      ]
     },
     "execution_count": 39,
     "metadata": {},
     "output_type": "execute_result"
    }
   ],
   "source": [
    "max(vote_stas.values())\n"
   ]
  },
  {
   "cell_type": "markdown",
   "metadata": {},
   "source": [
    "# Turn dictionary to 2 list"
   ]
  },
  {
   "cell_type": "code",
   "execution_count": 32,
   "metadata": {},
   "outputs": [
    {
     "data": {
      "text/plain": [
       "(['Khan', 'Correy', 'Li', \"O'Tooley\"], [2218231, 704200, 492940, 105630])"
      ]
     },
     "execution_count": 32,
     "metadata": {},
     "output_type": "execute_result"
    }
   ],
   "source": [
    "can_name = list(vote_stas.keys())\n",
    "can_num = list(vote_stas.values())\n",
    "can_name, can_num\n"
   ]
  },
  {
   "cell_type": "markdown",
   "metadata": {},
   "source": [
    "## Find the max value, and name"
   ]
  },
  {
   "cell_type": "code",
   "execution_count": 33,
   "metadata": {},
   "outputs": [
    {
     "data": {
      "text/plain": [
       "2218231"
      ]
     },
     "execution_count": 33,
     "metadata": {},
     "output_type": "execute_result"
    }
   ],
   "source": [
    "max_num = max(can_num)\n",
    "max_num"
   ]
  },
  {
   "cell_type": "code",
   "execution_count": 34,
   "metadata": {},
   "outputs": [],
   "source": [
    "u"
   ]
  },
  {
   "cell_type": "code",
   "execution_count": 35,
   "metadata": {},
   "outputs": [
    {
     "name": "stdout",
     "output_type": "stream",
     "text": [
      "Khan\n"
     ]
    }
   ],
   "source": [
    "can_name[max_index]\n",
    "winner = can_name[max_index]\n",
    "print(winner)"
   ]
  },
  {
   "cell_type": "code",
   "execution_count": 36,
   "metadata": {},
   "outputs": [],
   "source": [
    "khan_pct = round(can_num[0] / total_votes,5)*100\n",
    "#print(khan_pct)\n",
    "correy_pct = round(can_num[1] / total_votes,5)*100\n",
    "li_pct = round(can_num[2] / total_votes,5)*100 \n",
    "ot_pct = round(can_num[3] / total_votes,5)*100"
   ]
  },
  {
   "cell_type": "code",
   "execution_count": 38,
   "metadata": {},
   "outputs": [],
   "source": [
    "results = (\n",
    "f\"Election Results\\n\"\n",
    "f\"-----------------------------\\n\"\n",
    "f\"Total Votes: {total_votes}\\n\"\n",
    "f\"-----------------------------\\n\"\n",
    "f\"Khan: {khan_pct}% ({can_num[0]})\\n\"\n",
    "f\"Correy: {correy_pct}% ({can_num[1]})\\n\"\n",
    "f\"Li: {li_pct}% ({can_num[2]})\\n\" \n",
    "f\"O'Tooley: {ot_pct}% ({can_num[3]})\\n\"   \n",
    "f\"-----------------------------\\n\"\n",
    "f\"Winner: {winner}\\n\"\n",
    "f\"-----------------------------\\n\"\n",
    ")\n",
    "#print(results)\n",
    "with open (new_path,'w') as txt_file:\n",
    "    txt_file.write(results)"
   ]
  },
  {
   "cell_type": "code",
   "execution_count": null,
   "metadata": {},
   "outputs": [],
   "source": []
  }
 ],
 "metadata": {
  "kernelspec": {
   "display_name": "Python 3",
   "language": "python",
   "name": "python3"
  },
  "language_info": {
   "codemirror_mode": {
    "name": "ipython",
    "version": 3
   },
   "file_extension": ".py",
   "mimetype": "text/x-python",
   "name": "python",
   "nbconvert_exporter": "python",
   "pygments_lexer": "ipython3",
   "version": "3.7.4"
  }
 },
 "nbformat": 4,
 "nbformat_minor": 2
}
